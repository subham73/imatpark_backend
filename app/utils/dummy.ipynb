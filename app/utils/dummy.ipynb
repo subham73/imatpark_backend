{
 "cells": [
  {
   "cell_type": "code",
   "execution_count": 75,
   "metadata": {},
   "outputs": [],
   "source": [
    "import requests\n",
    "from bs4 import BeautifulSoup\n",
    "import json\n"
   ]
  },
  {
   "cell_type": "code",
   "execution_count": 82,
   "metadata": {},
   "outputs": [],
   "source": [
    "# baseUrl = \"https://www.strengthlog.com/bench-press-against-band/\"\n",
    "\n",
    "# response = requests.get(baseUrl)\n",
    "# html_content = response.content\n",
    "\n",
    "# soup = BeautifulSoup(html_content, 'html.parser')\n",
    "\n",
    "\n",
    "\n",
    "# Extract relevant details\n",
    "exrcisesDetails = []\n"
   ]
  },
  {
   "cell_type": "code",
   "execution_count": 86,
   "metadata": {},
   "outputs": [],
   "source": [
    "with open('exercise_details.json', 'r') as f:\n",
    "    datas = json.load(f)\n"
   ]
  },
  {
   "cell_type": "code",
   "execution_count": 90,
   "metadata": {},
   "outputs": [
    {
     "data": {
      "text/plain": [
       "{'title': 'band-assisted-bench-press',\n",
       " 'primary_muscles': ['Chest', 'Front Deltoid'],\n",
       " 'secondary_muscles': ['Triceps'],\n",
       " 'instructions': ['Attach the resistance band under the bench, loop it around the barbell, and back under the bench.',\n",
       "  'Lie on the bench with feet flat, back slightly arched, and shoulder blades retracted.',\n",
       "  'Grip the barbell at your preferred width.',\n",
       "  'Unrack the barbell and position it above your chest.',\n",
       "  'Lower the barbell to your chest, keeping tension in your upper body.',\n",
       "  'Press the barbell back up to the starting position against the band.',\n",
       "  'Repeat for reps.'],\n",
       " 'comments': 'The bench press against bands is a variation of the bench press in which resistance bands increase the tension as you press up. This makes it more challenging to lock out the lift, enhancing strength and power. It’s typically used to improve explosive strength and stability. Make sure to use the safety racks or to have a spotter while performing this exercise.'}"
      ]
     },
     "execution_count": 90,
     "metadata": {},
     "output_type": "execute_result"
    }
   ],
   "source": [
    "datas[0]"
   ]
  },
  {
   "cell_type": "code",
   "execution_count": null,
   "metadata": {},
   "outputs": [],
   "source": []
  }
 ],
 "metadata": {
  "kernelspec": {
   "display_name": "tensorGo",
   "language": "python",
   "name": "python3"
  },
  "language_info": {
   "codemirror_mode": {
    "name": "ipython",
    "version": 3
   },
   "file_extension": ".py",
   "mimetype": "text/x-python",
   "name": "python",
   "nbconvert_exporter": "python",
   "pygments_lexer": "ipython3",
   "version": "3.12.3"
  }
 },
 "nbformat": 4,
 "nbformat_minor": 2
}
